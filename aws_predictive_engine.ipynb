{
 "cells": [
  {
   "cell_type": "markdown",
   "metadata": {},
   "source": [
    " ### 1. Model Generation"
   ]
  },
  {
   "cell_type": "code",
   "execution_count": 160,
   "metadata": {},
   "outputs": [],
   "source": [
    "import pandas as pd\n",
    "import numpy as np\n",
    "import pickle\n",
    "from sklearn.linear_model import LogisticRegression\n",
    "from sklearn.datasets import load_wine\n",
    "from sklearn.model_selection import train_test_split\n",
    "pd.set_option('display.float_format', lambda x: '%.5f' % x)"
   ]
  },
  {
   "cell_type": "code",
   "execution_count": 161,
   "metadata": {},
   "outputs": [],
   "source": [
    "data = load_wine()\n",
    "df = pd.concat([pd.DataFrame(data.data), pd.DataFrame(data.target)],ignore_index=True,axis=1)\n",
    "df =  df.sample(frac=1)\n",
    "X_train, X_test, y_train, y_test = train_test_split(df.iloc[:,:-1],df.iloc[:,-1],test_size=0.33, random_state=42)\n",
    "logreg = LogisticRegression(C=1e5, solver='lbfgs', multi_class='multinomial', max_iter=10000)\n",
    "model = logreg.fit(X_train, y_train)"
   ]
  },
  {
   "cell_type": "markdown",
   "metadata": {},
   "source": [
    "### 2. Now dump the model in the folder for AWS Lambda access"
   ]
  },
  {
   "cell_type": "code",
   "execution_count": 162,
   "metadata": {},
   "outputs": [],
   "source": [
    "pickle.dump(model,open('model/wine_model.pkl','wb'))"
   ]
  },
  {
   "cell_type": "markdown",
   "metadata": {},
   "source": [
    "### 3. Because AWS Lambda didn't support scikit-learn, you need to prepare and add a layer"
   ]
  },
  {
   "cell_type": "markdown",
   "metadata": {},
   "source": [
    "<b>create_layer.sh<b>"
   ]
  },
  {
   "cell_type": "code",
   "execution_count": null,
   "metadata": {},
   "outputs": [],
   "source": [
    "PY_DIR='build/python/lib/python3.6/site-packages'\n",
    "mkdir -p $PY_DIR\n",
    "pip install -r requirements_aws.txt -t $PY_DIR"
   ]
  },
  {
   "cell_type": "markdown",
   "metadata": {},
   "source": [
    "### 4. Create a AWS Lambda function which calls the model and repsonse with the prediction for new data"
   ]
  },
  {
   "cell_type": "markdown",
   "metadata": {},
   "source": [
    "<b>get_prediction.py</b>"
   ]
  },
  {
   "cell_type": "code",
   "execution_count": 164,
   "metadata": {},
   "outputs": [],
   "source": [
    "import json\n",
    "import pickle\n",
    "import logging\n",
    "import numpy as np\n",
    "from sklearn.linear_model import LogisticRegression\n",
    "\n",
    "logger = logging.getLogger()\n",
    "logger.setLevel(logging.INFO)\n",
    "\n",
    "model = pickle.load(open(\"model/wine_model.pkl\", \"rb\"))\n",
    "\n",
    "\n",
    "def handler(event, context):\n",
    "    logger.info(\"EVENT:{}\".format(event))\n",
    "    payload = event.get(\"body\")\n",
    "    data = json.loads(payload).get(\"data\")\n",
    "    pred = list(model.predict_proba(np.array(data).reshape(1, -1))[0])\n",
    "    return {\"statusCode\": 200, \"body\": json.dumps(str(pred))}"
   ]
  },
  {
   "cell_type": "markdown",
   "metadata": {},
   "source": [
    "### 5. Create a <b>serverless.yml</b> file to deploy API Gateway and the Lambda function including the layer to AWS"
   ]
  },
  {
   "cell_type": "markdown",
   "metadata": {},
   "source": [
    "If you want to know more about serverless see <b> https://serverless.com/ <b>"
   ]
  },
  {
   "cell_type": "code",
   "execution_count": null,
   "metadata": {},
   "outputs": [],
   "source": [
    "service: aws-simple-predictive-engine\n",
    "\n",
    "package:\n",
    "  individually: true\n",
    "\n",
    "provider:\n",
    "  name: aws\n",
    "  runtime: python3.6\n",
    "  timeout: 3\n",
    "  apiKeys:\n",
    "  - ${self:provider.stage}-predictive-engine\n",
    "  usagePlan:\n",
    "    quota:\n",
    "      limit: 1000000\n",
    "      offset: 0\n",
    "      period: DAY\n",
    "    throttle:\n",
    "      burstLimit: 10000\n",
    "  region: eu-central-1\n",
    "  endpointType: REGIONAL\n",
    "\n",
    "layers:\n",
    "  scikitLayer:\n",
    "    path: build\n",
    "    description: scikit-learn\n",
    "    compatibleRuntimes:\n",
    "     - python3.6\n",
    "\n",
    "functions:\n",
    "  get_prediction:\n",
    "    handler: get_prediction.handler\n",
    "    description: This function predict scores for new data\n",
    "    memorySize: 256\n",
    "    timeout: 3\n",
    "    reservedConcurrency: 10\n",
    "    package:\n",
    "      exclude:      \n",
    "      - build/**\n",
    "      - venv/**\n",
    "    events:\n",
    "    - http:\n",
    "        path: v1/predict\n",
    "        method: post\n",
    "        private: true\n",
    "    layers:\n",
    "    - {Ref: ScikitLayerLambdaLayer}  # See for details https://serverless.com/framework/docs/providers/aws/guide/layers/"
   ]
  },
  {
   "cell_type": "markdown",
   "metadata": {},
   "source": [
    "### 6. Deploy your serverless.yml"
   ]
  },
  {
   "cell_type": "code",
   "execution_count": null,
   "metadata": {},
   "outputs": [],
   "source": [
    "!sls deploy"
   ]
  },
  {
   "cell_type": "markdown",
   "metadata": {},
   "source": [
    "### 7. Generate some random data and post requests against your endpoint"
   ]
  },
  {
   "cell_type": "markdown",
   "metadata": {},
   "source": [
    "Use your API-Key and Endpoint"
   ]
  },
  {
   "cell_type": "code",
   "execution_count": 158,
   "metadata": {},
   "outputs": [],
   "source": [
    "import json\n",
    "import requests\n",
    "\n",
    "headers = {\n",
    "    \"Content-type\": \"application/json\",\n",
    "    \"x-api-key\": \"YOUR_KEY\",\n",
    "}\n",
    "\n",
    "endpoint = YOUR_ENDPOINT\n",
    "    \n",
    "def call_api_gateway(input_data, headers=headers,endpoint=endpoint):\n",
    "    try:    \n",
    "        input_data = {'data':list(input_data)}   \n",
    "        r = requests.post(endpoint, data=json.dumps(input_data), headers=headers)\n",
    "        response = r.json()\n",
    "        scores = json.loads(response)\n",
    "    except Exception as e:        \n",
    "        scores = [None]*3\n",
    "    return scores"
   ]
  },
  {
   "cell_type": "markdown",
   "metadata": {},
   "source": [
    "#### Be aware this are just some dumb random numbers"
   ]
  },
  {
   "cell_type": "code",
   "execution_count": 159,
   "metadata": {},
   "outputs": [
    {
     "data": {
      "text/html": [
       "<div>\n",
       "<style scoped>\n",
       "    .dataframe tbody tr th:only-of-type {\n",
       "        vertical-align: middle;\n",
       "    }\n",
       "\n",
       "    .dataframe tbody tr th {\n",
       "        vertical-align: top;\n",
       "    }\n",
       "\n",
       "    .dataframe thead th {\n",
       "        text-align: right;\n",
       "    }\n",
       "</style>\n",
       "<table border=\"1\" class=\"dataframe\">\n",
       "  <thead>\n",
       "    <tr style=\"text-align: right;\">\n",
       "      <th></th>\n",
       "      <th>class_0</th>\n",
       "      <th>class_1</th>\n",
       "      <th>class_2</th>\n",
       "    </tr>\n",
       "  </thead>\n",
       "  <tbody>\n",
       "    <tr>\n",
       "      <th>90</th>\n",
       "      <td>0.00000</td>\n",
       "      <td>0.00000</td>\n",
       "      <td>1.00000</td>\n",
       "    </tr>\n",
       "    <tr>\n",
       "      <th>91</th>\n",
       "      <td>0.03671</td>\n",
       "      <td>0.96329</td>\n",
       "      <td>0.00000</td>\n",
       "    </tr>\n",
       "    <tr>\n",
       "      <th>92</th>\n",
       "      <td>0.00000</td>\n",
       "      <td>1.00000</td>\n",
       "      <td>0.00000</td>\n",
       "    </tr>\n",
       "    <tr>\n",
       "      <th>93</th>\n",
       "      <td>0.00000</td>\n",
       "      <td>0.00000</td>\n",
       "      <td>1.00000</td>\n",
       "    </tr>\n",
       "    <tr>\n",
       "      <th>94</th>\n",
       "      <td>0.99396</td>\n",
       "      <td>0.00000</td>\n",
       "      <td>0.00604</td>\n",
       "    </tr>\n",
       "    <tr>\n",
       "      <th>95</th>\n",
       "      <td>0.99997</td>\n",
       "      <td>0.00000</td>\n",
       "      <td>0.00003</td>\n",
       "    </tr>\n",
       "    <tr>\n",
       "      <th>96</th>\n",
       "      <td>0.01430</td>\n",
       "      <td>0.00000</td>\n",
       "      <td>0.98570</td>\n",
       "    </tr>\n",
       "    <tr>\n",
       "      <th>97</th>\n",
       "      <td>0.00000</td>\n",
       "      <td>0.00000</td>\n",
       "      <td>1.00000</td>\n",
       "    </tr>\n",
       "    <tr>\n",
       "      <th>98</th>\n",
       "      <td>0.00000</td>\n",
       "      <td>1.00000</td>\n",
       "      <td>0.00000</td>\n",
       "    </tr>\n",
       "    <tr>\n",
       "      <th>99</th>\n",
       "      <td>0.00000</td>\n",
       "      <td>0.00000</td>\n",
       "      <td>1.00000</td>\n",
       "    </tr>\n",
       "  </tbody>\n",
       "</table>\n",
       "</div>"
      ],
      "text/plain": [
       "    class_0  class_1  class_2\n",
       "90  0.00000  0.00000  1.00000\n",
       "91  0.03671  0.96329  0.00000\n",
       "92  0.00000  1.00000  0.00000\n",
       "93  0.00000  0.00000  1.00000\n",
       "94  0.99396  0.00000  0.00604\n",
       "95  0.99997  0.00000  0.00003\n",
       "96  0.01430  0.00000  0.98570\n",
       "97  0.00000  0.00000  1.00000\n",
       "98  0.00000  1.00000  0.00000\n",
       "99  0.00000  0.00000  1.00000"
      ]
     },
     "execution_count": 159,
     "metadata": {},
     "output_type": "execute_result"
    }
   ],
   "source": [
    "response = []\n",
    "df_scores = pd.DataFrame([call_api_gateway(v) for v in pd.DataFrame(np.random.randn(100,13)).values])\n",
    "df_scores.columns =['class_0', 'class_1','class_2']\n",
    "df_scores.tail(10)"
   ]
  }
 ],
 "metadata": {
  "kernelspec": {
   "display_name": "Python 3",
   "language": "python",
   "name": "python3"
  },
  "language_info": {
   "codemirror_mode": {
    "name": "ipython",
    "version": 3
   },
   "file_extension": ".py",
   "mimetype": "text/x-python",
   "name": "python",
   "nbconvert_exporter": "python",
   "pygments_lexer": "ipython3",
   "version": "3.6.7"
  }
 },
 "nbformat": 4,
 "nbformat_minor": 2
}
